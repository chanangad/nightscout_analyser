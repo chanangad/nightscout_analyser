{
 "cells": [
  {
   "cell_type": "code",
   "execution_count": 20,
   "metadata": {},
   "outputs": [],
   "source": [
    "import numpy as np\n",
    "import pandas as pd\n",
    "import requests\n",
    "import json\n",
    "import os"
   ]
  },
  {
   "cell_type": "code",
   "execution_count": 2,
   "metadata": {},
   "outputs": [],
   "source": [
    "# put heroku app URL here\n",
    "url = \"https://xyz.herokuapp.com\""
   ]
  },
  {
   "cell_type": "code",
   "execution_count": 3,
   "metadata": {},
   "outputs": [],
   "source": [
    "prefix = \"/api/v1/\""
   ]
  },
  {
   "cell_type": "code",
   "execution_count": 59,
   "metadata": {},
   "outputs": [],
   "source": [
    "endpoints = {\n",
    "    \"entries\": \"entries.json\",\n",
    "    \"status\": \"status.json\",\n",
    "    \"treatments\": \"treatments.json\",\n",
    "    \"profile\": \"profile.json\",\n",
    "}"
   ]
  },
  {
   "cell_type": "markdown",
   "metadata": {},
   "source": [
    "## Testing the entries"
   ]
  },
  {
   "cell_type": "code",
   "execution_count": 13,
   "metadata": {},
   "outputs": [
    {
     "name": "stdout",
     "output_type": "stream",
     "text": [
      "https://angadchan.herokuapp.com/api/v1/entries.json\n"
     ]
    }
   ],
   "source": [
    "full_url = url + prefix + endpoints[\"entries\"]\n",
    "\n",
    "print(full_url)"
   ]
  },
  {
   "cell_type": "code",
   "execution_count": 14,
   "metadata": {},
   "outputs": [],
   "source": [
    "response = requests.get(full_url)"
   ]
  },
  {
   "cell_type": "code",
   "execution_count": 16,
   "metadata": {},
   "outputs": [
    {
     "data": {
      "text/plain": [
       "200"
      ]
     },
     "execution_count": 16,
     "metadata": {},
     "output_type": "execute_result"
    }
   ],
   "source": [
    "# check if request passed through\n",
    "response.status_code"
   ]
  },
  {
   "cell_type": "code",
   "execution_count": 21,
   "metadata": {},
   "outputs": [],
   "source": [
    "entries_data = response.json()"
   ]
  },
  {
   "cell_type": "markdown",
   "metadata": {},
   "source": [
    "Entries data is list of dictionaries, We can parse it into pandas dataframe."
   ]
  },
  {
   "cell_type": "code",
   "execution_count": 22,
   "metadata": {},
   "outputs": [],
   "source": [
    "entries_df = pd.DataFrame(entries_data)"
   ]
  },
  {
   "cell_type": "code",
   "execution_count": 46,
   "metadata": {},
   "outputs": [
    {
     "data": {
      "text/plain": [
       "(10, 15)"
      ]
     },
     "execution_count": 46,
     "metadata": {},
     "output_type": "execute_result"
    }
   ],
   "source": [
    "entries_df.shape"
   ]
  },
  {
   "cell_type": "code",
   "execution_count": 24,
   "metadata": {},
   "outputs": [
    {
     "data": {
      "text/html": [
       "<div>\n",
       "<style scoped>\n",
       "    .dataframe tbody tr th:only-of-type {\n",
       "        vertical-align: middle;\n",
       "    }\n",
       "\n",
       "    .dataframe tbody tr th {\n",
       "        vertical-align: top;\n",
       "    }\n",
       "\n",
       "    .dataframe thead th {\n",
       "        text-align: right;\n",
       "    }\n",
       "</style>\n",
       "<table border=\"1\" class=\"dataframe\">\n",
       "  <thead>\n",
       "    <tr style=\"text-align: right;\">\n",
       "      <th></th>\n",
       "      <th>_id</th>\n",
       "      <th>device</th>\n",
       "      <th>date</th>\n",
       "      <th>dateString</th>\n",
       "      <th>sgv</th>\n",
       "      <th>delta</th>\n",
       "      <th>direction</th>\n",
       "      <th>type</th>\n",
       "      <th>filtered</th>\n",
       "      <th>unfiltered</th>\n",
       "      <th>rssi</th>\n",
       "      <th>noise</th>\n",
       "      <th>sysTime</th>\n",
       "      <th>utcOffset</th>\n",
       "      <th>mills</th>\n",
       "    </tr>\n",
       "  </thead>\n",
       "  <tbody>\n",
       "    <tr>\n",
       "      <th>0</th>\n",
       "      <td>60f0bdaca7ff09f52f9b89aa</td>\n",
       "      <td>xDrip-NSEmulator</td>\n",
       "      <td>1626389929000</td>\n",
       "      <td>2021-07-15T22:58:49.000Z</td>\n",
       "      <td>102</td>\n",
       "      <td>0</td>\n",
       "      <td>Flat</td>\n",
       "      <td>sgv</td>\n",
       "      <td>102699.996948</td>\n",
       "      <td>102699.996948</td>\n",
       "      <td>100</td>\n",
       "      <td>1</td>\n",
       "      <td>2021-07-15T22:58:49.000Z</td>\n",
       "      <td>330</td>\n",
       "      <td>1626389929000</td>\n",
       "    </tr>\n",
       "    <tr>\n",
       "      <th>1</th>\n",
       "      <td>60f0bc80a7ff09f52f9b14fb</td>\n",
       "      <td>xDrip-NSEmulator</td>\n",
       "      <td>1626389628000</td>\n",
       "      <td>2021-07-15T22:53:48.000Z</td>\n",
       "      <td>102</td>\n",
       "      <td>0</td>\n",
       "      <td>Flat</td>\n",
       "      <td>sgv</td>\n",
       "      <td>102699.996948</td>\n",
       "      <td>102699.996948</td>\n",
       "      <td>100</td>\n",
       "      <td>1</td>\n",
       "      <td>2021-07-15T22:53:48.000Z</td>\n",
       "      <td>330</td>\n",
       "      <td>1626389628000</td>\n",
       "    </tr>\n",
       "    <tr>\n",
       "      <th>2</th>\n",
       "      <td>60f0bb54a7ff09f52f9a9879</td>\n",
       "      <td>xDrip-NSEmulator</td>\n",
       "      <td>1626389329000</td>\n",
       "      <td>2021-07-15T22:48:49.000Z</td>\n",
       "      <td>102</td>\n",
       "      <td>0</td>\n",
       "      <td>Flat</td>\n",
       "      <td>sgv</td>\n",
       "      <td>102699.996948</td>\n",
       "      <td>102699.996948</td>\n",
       "      <td>100</td>\n",
       "      <td>1</td>\n",
       "      <td>2021-07-15T22:48:49.000Z</td>\n",
       "      <td>330</td>\n",
       "      <td>1626389329000</td>\n",
       "    </tr>\n",
       "    <tr>\n",
       "      <th>3</th>\n",
       "      <td>60f0ba28a7ff09f52f9a108a</td>\n",
       "      <td>xDrip-NSEmulator</td>\n",
       "      <td>1626389029000</td>\n",
       "      <td>2021-07-15T22:43:49.000Z</td>\n",
       "      <td>100</td>\n",
       "      <td>0</td>\n",
       "      <td>Flat</td>\n",
       "      <td>sgv</td>\n",
       "      <td>100900.001526</td>\n",
       "      <td>100900.001526</td>\n",
       "      <td>100</td>\n",
       "      <td>1</td>\n",
       "      <td>2021-07-15T22:43:49.000Z</td>\n",
       "      <td>330</td>\n",
       "      <td>1626389029000</td>\n",
       "    </tr>\n",
       "    <tr>\n",
       "      <th>4</th>\n",
       "      <td>60f0b8fca7ff09f52f9996cf</td>\n",
       "      <td>xDrip-NSEmulator</td>\n",
       "      <td>1626388728000</td>\n",
       "      <td>2021-07-15T22:38:48.000Z</td>\n",
       "      <td>100</td>\n",
       "      <td>0</td>\n",
       "      <td>Flat</td>\n",
       "      <td>sgv</td>\n",
       "      <td>100900.001526</td>\n",
       "      <td>100900.001526</td>\n",
       "      <td>100</td>\n",
       "      <td>1</td>\n",
       "      <td>2021-07-15T22:38:48.000Z</td>\n",
       "      <td>330</td>\n",
       "      <td>1626388728000</td>\n",
       "    </tr>\n",
       "  </tbody>\n",
       "</table>\n",
       "</div>"
      ],
      "text/plain": [
       "                        _id            device           date  \\\n",
       "0  60f0bdaca7ff09f52f9b89aa  xDrip-NSEmulator  1626389929000   \n",
       "1  60f0bc80a7ff09f52f9b14fb  xDrip-NSEmulator  1626389628000   \n",
       "2  60f0bb54a7ff09f52f9a9879  xDrip-NSEmulator  1626389329000   \n",
       "3  60f0ba28a7ff09f52f9a108a  xDrip-NSEmulator  1626389029000   \n",
       "4  60f0b8fca7ff09f52f9996cf  xDrip-NSEmulator  1626388728000   \n",
       "\n",
       "                 dateString  sgv  delta direction type       filtered  \\\n",
       "0  2021-07-15T22:58:49.000Z  102      0      Flat  sgv  102699.996948   \n",
       "1  2021-07-15T22:53:48.000Z  102      0      Flat  sgv  102699.996948   \n",
       "2  2021-07-15T22:48:49.000Z  102      0      Flat  sgv  102699.996948   \n",
       "3  2021-07-15T22:43:49.000Z  100      0      Flat  sgv  100900.001526   \n",
       "4  2021-07-15T22:38:48.000Z  100      0      Flat  sgv  100900.001526   \n",
       "\n",
       "      unfiltered  rssi  noise                   sysTime  utcOffset  \\\n",
       "0  102699.996948   100      1  2021-07-15T22:58:49.000Z        330   \n",
       "1  102699.996948   100      1  2021-07-15T22:53:48.000Z        330   \n",
       "2  102699.996948   100      1  2021-07-15T22:48:49.000Z        330   \n",
       "3  100900.001526   100      1  2021-07-15T22:43:49.000Z        330   \n",
       "4  100900.001526   100      1  2021-07-15T22:38:48.000Z        330   \n",
       "\n",
       "           mills  \n",
       "0  1626389929000  \n",
       "1  1626389628000  \n",
       "2  1626389329000  \n",
       "3  1626389029000  \n",
       "4  1626388728000  "
      ]
     },
     "execution_count": 24,
     "metadata": {},
     "output_type": "execute_result"
    }
   ],
   "source": [
    "entries_df.head()"
   ]
  },
  {
   "cell_type": "markdown",
   "metadata": {},
   "source": [
    "## Testing the status data"
   ]
  },
  {
   "cell_type": "code",
   "execution_count": 25,
   "metadata": {},
   "outputs": [
    {
     "name": "stdout",
     "output_type": "stream",
     "text": [
      "https://angadchan.herokuapp.com/api/v1/status.json\n"
     ]
    }
   ],
   "source": [
    "full_url = url + prefix + endpoints[\"status\"]\n",
    "\n",
    "print(full_url)"
   ]
  },
  {
   "cell_type": "code",
   "execution_count": 26,
   "metadata": {},
   "outputs": [],
   "source": [
    "response = requests.get(full_url)"
   ]
  },
  {
   "cell_type": "code",
   "execution_count": 27,
   "metadata": {},
   "outputs": [
    {
     "data": {
      "text/plain": [
       "200"
      ]
     },
     "execution_count": 27,
     "metadata": {},
     "output_type": "execute_result"
    }
   ],
   "source": [
    "# check if request passed through\n",
    "response.status_code"
   ]
  },
  {
   "cell_type": "code",
   "execution_count": 34,
   "metadata": {},
   "outputs": [],
   "source": [
    "status_data = response.json()"
   ]
  },
  {
   "cell_type": "code",
   "execution_count": 29,
   "metadata": {
    "collapsed": true,
    "jupyter": {
     "outputs_hidden": true
    }
   },
   "outputs": [
    {
     "data": {
      "text/plain": [
       "{'status': 'ok',\n",
       " 'name': 'nightscout',\n",
       " 'version': '14.2.2',\n",
       " 'serverTime': '2021-07-15T23:08:14.734Z',\n",
       " 'serverTimeEpoch': 1626390494734,\n",
       " 'apiEnabled': True,\n",
       " 'careportalEnabled': True,\n",
       " 'boluscalcEnabled': True,\n",
       " 'settings': {'units': 'mg/dl',\n",
       "  'timeFormat': 12,\n",
       "  'dayStart': 7,\n",
       "  'dayEnd': 21,\n",
       "  'nightMode': False,\n",
       "  'editMode': True,\n",
       "  'showRawbg': 'never',\n",
       "  'customTitle': 'Angad Chandhok',\n",
       "  'theme': 'colors',\n",
       "  'alarmUrgentHigh': True,\n",
       "  'alarmUrgentHighMins': [30, 60, 90, 120],\n",
       "  'alarmHigh': True,\n",
       "  'alarmHighMins': [30, 60, 90, 120],\n",
       "  'alarmLow': True,\n",
       "  'alarmLowMins': [15, 30, 45, 60],\n",
       "  'alarmUrgentLow': True,\n",
       "  'alarmUrgentLowMins': [15, 30, 45],\n",
       "  'alarmUrgentMins': [30, 60, 90, 120],\n",
       "  'alarmWarnMins': [30, 60, 90, 120],\n",
       "  'alarmTimeagoWarn': True,\n",
       "  'alarmTimeagoWarnMins': '15',\n",
       "  'alarmTimeagoUrgent': True,\n",
       "  'alarmTimeagoUrgentMins': '30',\n",
       "  'alarmPumpBatteryLow': False,\n",
       "  'language': 'en',\n",
       "  'scaleY': 'log',\n",
       "  'showPlugins': 'pump cob iob sage cage careportal openaps delta direction upbat',\n",
       "  'showForecast': 'ar2 openaps',\n",
       "  'focusHours': 3,\n",
       "  'heartbeat': 60,\n",
       "  'baseURL': '',\n",
       "  'authDefaultRoles': 'readable',\n",
       "  'thresholds': {'bgHigh': 250,\n",
       "   'bgTargetTop': 150,\n",
       "   'bgTargetBottom': 70,\n",
       "   'bgLow': 50},\n",
       "  'insecureUseHttp': False,\n",
       "  'secureHstsHeader': True,\n",
       "  'secureHstsHeaderIncludeSubdomains': False,\n",
       "  'secureHstsHeaderPreload': False,\n",
       "  'secureCsp': False,\n",
       "  'deNormalizeDates': False,\n",
       "  'showClockDelta': False,\n",
       "  'showClockLastTime': False,\n",
       "  'frameUrl1': '',\n",
       "  'frameUrl2': '',\n",
       "  'frameUrl3': '',\n",
       "  'frameUrl4': '',\n",
       "  'frameUrl5': '',\n",
       "  'frameUrl6': '',\n",
       "  'frameUrl7': '',\n",
       "  'frameUrl8': '',\n",
       "  'frameName1': '',\n",
       "  'frameName2': '',\n",
       "  'frameName3': '',\n",
       "  'frameName4': '',\n",
       "  'frameName5': '',\n",
       "  'frameName6': '',\n",
       "  'frameName7': '',\n",
       "  'frameName8': '',\n",
       "  'authFailDelay': 5000,\n",
       "  'adminNotifiesEnabled': True,\n",
       "  'DEFAULT_FEATURES': ['bgnow',\n",
       "   'delta',\n",
       "   'direction',\n",
       "   'timeago',\n",
       "   'devicestatus',\n",
       "   'upbat',\n",
       "   'errorcodes',\n",
       "   'profile',\n",
       "   'bolus',\n",
       "   'dbsize',\n",
       "   'runtimestate',\n",
       "   'basal',\n",
       "   'careportal'],\n",
       "  'alarmTypes': ['simple'],\n",
       "  'enable': ['bridge',\n",
       "   'pump',\n",
       "   'iob',\n",
       "   'cob',\n",
       "   'basal',\n",
       "   'careportal',\n",
       "   'sage',\n",
       "   'cage',\n",
       "   'iage',\n",
       "   'bage',\n",
       "   'alexa',\n",
       "   'cors',\n",
       "   'googlehome',\n",
       "   'rawbg',\n",
       "   'openaps',\n",
       "   'boluscalc',\n",
       "   'food',\n",
       "   'bwp',\n",
       "   'sage',\n",
       "   'ar2',\n",
       "   'pushover',\n",
       "   'bgi',\n",
       "   'pump',\n",
       "   'openaps',\n",
       "   'treatmentnotify',\n",
       "   'bgnow',\n",
       "   'delta',\n",
       "   'direction',\n",
       "   'timeago',\n",
       "   'devicestatus',\n",
       "   'upbat',\n",
       "   'errorcodes',\n",
       "   'profile',\n",
       "   'bolus',\n",
       "   'dbsize',\n",
       "   'runtimestate',\n",
       "   'simplealarms']},\n",
       " 'extendedSettings': {'basal': {'render': 'default'},\n",
       "  'bolus': {'renderOver': 1},\n",
       "  'devicestatus': {'advanced': True, 'days': 1}},\n",
       " 'authorized': None,\n",
       " 'runtimeState': 'loaded'}"
      ]
     },
     "execution_count": 29,
     "metadata": {},
     "output_type": "execute_result"
    }
   ],
   "source": [
    "status_data"
   ]
  },
  {
   "cell_type": "markdown",
   "metadata": {},
   "source": [
    "## Testing treatments data"
   ]
  },
  {
   "cell_type": "code",
   "execution_count": 32,
   "metadata": {},
   "outputs": [
    {
     "name": "stdout",
     "output_type": "stream",
     "text": [
      "https://angadchan.herokuapp.com/api/v1/treatments.json\n"
     ]
    }
   ],
   "source": [
    "full_url = url + prefix + endpoints[\"treatments\"]\n",
    "\n",
    "print(full_url)"
   ]
  },
  {
   "cell_type": "code",
   "execution_count": 33,
   "metadata": {},
   "outputs": [],
   "source": [
    "response = requests.get(full_url)"
   ]
  },
  {
   "cell_type": "code",
   "execution_count": 35,
   "metadata": {},
   "outputs": [
    {
     "data": {
      "text/plain": [
       "200"
      ]
     },
     "execution_count": 35,
     "metadata": {},
     "output_type": "execute_result"
    }
   ],
   "source": [
    "# check if request passed through\n",
    "response.status_code"
   ]
  },
  {
   "cell_type": "code",
   "execution_count": 36,
   "metadata": {},
   "outputs": [],
   "source": [
    "treatments_data = response.json()"
   ]
  },
  {
   "cell_type": "markdown",
   "metadata": {},
   "source": [
    "Treatments data is list of dicts. We can convert it to pandas dataframe."
   ]
  },
  {
   "cell_type": "code",
   "execution_count": 38,
   "metadata": {},
   "outputs": [],
   "source": [
    "treatments_df = pd.DataFrame(treatments_data)"
   ]
  },
  {
   "cell_type": "code",
   "execution_count": 45,
   "metadata": {},
   "outputs": [
    {
     "data": {
      "text/plain": [
       "(36, 16)"
      ]
     },
     "execution_count": 45,
     "metadata": {},
     "output_type": "execute_result"
    }
   ],
   "source": [
    "treatments_df.shape"
   ]
  },
  {
   "cell_type": "code",
   "execution_count": 39,
   "metadata": {},
   "outputs": [
    {
     "data": {
      "text/html": [
       "<div>\n",
       "<style scoped>\n",
       "    .dataframe tbody tr th:only-of-type {\n",
       "        vertical-align: middle;\n",
       "    }\n",
       "\n",
       "    .dataframe tbody tr th {\n",
       "        vertical-align: top;\n",
       "    }\n",
       "\n",
       "    .dataframe thead th {\n",
       "        text-align: right;\n",
       "    }\n",
       "</style>\n",
       "<table border=\"1\" class=\"dataframe\">\n",
       "  <thead>\n",
       "    <tr style=\"text-align: right;\">\n",
       "      <th></th>\n",
       "      <th>_id</th>\n",
       "      <th>eventType</th>\n",
       "      <th>duration</th>\n",
       "      <th>absolute</th>\n",
       "      <th>rate</th>\n",
       "      <th>created_at</th>\n",
       "      <th>enteredBy</th>\n",
       "      <th>NSCLIENT_ID</th>\n",
       "      <th>carbs</th>\n",
       "      <th>insulin</th>\n",
       "      <th>notes</th>\n",
       "      <th>date</th>\n",
       "      <th>isSMB</th>\n",
       "      <th>glucose</th>\n",
       "      <th>glucoseType</th>\n",
       "      <th>boluscalc</th>\n",
       "    </tr>\n",
       "  </thead>\n",
       "  <tbody>\n",
       "    <tr>\n",
       "      <th>0</th>\n",
       "      <td>60ebcbb275fd4e00047f33ab</td>\n",
       "      <td>Temp Basal</td>\n",
       "      <td>30.0</td>\n",
       "      <td>0.4</td>\n",
       "      <td>0.4</td>\n",
       "      <td>2021-07-12T04:56:54Z</td>\n",
       "      <td>openaps://AndroidAPS</td>\n",
       "      <td>1626065814113</td>\n",
       "      <td>NaN</td>\n",
       "      <td>NaN</td>\n",
       "      <td>NaN</td>\n",
       "      <td>NaN</td>\n",
       "      <td>NaN</td>\n",
       "      <td>NaN</td>\n",
       "      <td>NaN</td>\n",
       "      <td>NaN</td>\n",
       "    </tr>\n",
       "    <tr>\n",
       "      <th>1</th>\n",
       "      <td>60ebca8a75fd4e00047f33a8</td>\n",
       "      <td>Temp Basal</td>\n",
       "      <td>NaN</td>\n",
       "      <td>NaN</td>\n",
       "      <td>NaN</td>\n",
       "      <td>2021-07-12T04:52:24Z</td>\n",
       "      <td>openaps://AndroidAPS</td>\n",
       "      <td>1626065544796</td>\n",
       "      <td>NaN</td>\n",
       "      <td>NaN</td>\n",
       "      <td>NaN</td>\n",
       "      <td>NaN</td>\n",
       "      <td>NaN</td>\n",
       "      <td>NaN</td>\n",
       "      <td>NaN</td>\n",
       "      <td>NaN</td>\n",
       "    </tr>\n",
       "    <tr>\n",
       "      <th>2</th>\n",
       "      <td>60ebc72175fd4e00047f33a1</td>\n",
       "      <td>Temp Basal</td>\n",
       "      <td>120.0</td>\n",
       "      <td>0.0</td>\n",
       "      <td>0.0</td>\n",
       "      <td>2021-07-12T04:37:52Z</td>\n",
       "      <td>openaps://AndroidAPS</td>\n",
       "      <td>1626064672227</td>\n",
       "      <td>NaN</td>\n",
       "      <td>NaN</td>\n",
       "      <td>NaN</td>\n",
       "      <td>NaN</td>\n",
       "      <td>NaN</td>\n",
       "      <td>NaN</td>\n",
       "      <td>NaN</td>\n",
       "      <td>NaN</td>\n",
       "    </tr>\n",
       "    <tr>\n",
       "      <th>3</th>\n",
       "      <td>60ebc14875fd4e00047f3396</td>\n",
       "      <td>Temp Basal</td>\n",
       "      <td>90.0</td>\n",
       "      <td>0.0</td>\n",
       "      <td>0.0</td>\n",
       "      <td>2021-07-12T04:12:55Z</td>\n",
       "      <td>openaps://AndroidAPS</td>\n",
       "      <td>1626063175099</td>\n",
       "      <td>NaN</td>\n",
       "      <td>NaN</td>\n",
       "      <td>NaN</td>\n",
       "      <td>NaN</td>\n",
       "      <td>NaN</td>\n",
       "      <td>NaN</td>\n",
       "      <td>NaN</td>\n",
       "      <td>NaN</td>\n",
       "    </tr>\n",
       "    <tr>\n",
       "      <th>4</th>\n",
       "      <td>60ebc01475fd4e00047f3393</td>\n",
       "      <td>Temp Basal</td>\n",
       "      <td>NaN</td>\n",
       "      <td>NaN</td>\n",
       "      <td>NaN</td>\n",
       "      <td>2021-07-12T04:07:47Z</td>\n",
       "      <td>openaps://AndroidAPS</td>\n",
       "      <td>1626062867609</td>\n",
       "      <td>NaN</td>\n",
       "      <td>NaN</td>\n",
       "      <td>NaN</td>\n",
       "      <td>NaN</td>\n",
       "      <td>NaN</td>\n",
       "      <td>NaN</td>\n",
       "      <td>NaN</td>\n",
       "      <td>NaN</td>\n",
       "    </tr>\n",
       "  </tbody>\n",
       "</table>\n",
       "</div>"
      ],
      "text/plain": [
       "                        _id   eventType  duration  absolute  rate  \\\n",
       "0  60ebcbb275fd4e00047f33ab  Temp Basal      30.0       0.4   0.4   \n",
       "1  60ebca8a75fd4e00047f33a8  Temp Basal       NaN       NaN   NaN   \n",
       "2  60ebc72175fd4e00047f33a1  Temp Basal     120.0       0.0   0.0   \n",
       "3  60ebc14875fd4e00047f3396  Temp Basal      90.0       0.0   0.0   \n",
       "4  60ebc01475fd4e00047f3393  Temp Basal       NaN       NaN   NaN   \n",
       "\n",
       "             created_at             enteredBy    NSCLIENT_ID  carbs  insulin  \\\n",
       "0  2021-07-12T04:56:54Z  openaps://AndroidAPS  1626065814113    NaN      NaN   \n",
       "1  2021-07-12T04:52:24Z  openaps://AndroidAPS  1626065544796    NaN      NaN   \n",
       "2  2021-07-12T04:37:52Z  openaps://AndroidAPS  1626064672227    NaN      NaN   \n",
       "3  2021-07-12T04:12:55Z  openaps://AndroidAPS  1626063175099    NaN      NaN   \n",
       "4  2021-07-12T04:07:47Z  openaps://AndroidAPS  1626062867609    NaN      NaN   \n",
       "\n",
       "  notes  date isSMB  glucose glucoseType boluscalc  \n",
       "0   NaN   NaN   NaN      NaN         NaN       NaN  \n",
       "1   NaN   NaN   NaN      NaN         NaN       NaN  \n",
       "2   NaN   NaN   NaN      NaN         NaN       NaN  \n",
       "3   NaN   NaN   NaN      NaN         NaN       NaN  \n",
       "4   NaN   NaN   NaN      NaN         NaN       NaN  "
      ]
     },
     "execution_count": 39,
     "metadata": {},
     "output_type": "execute_result"
    }
   ],
   "source": [
    "treatments_df.head()"
   ]
  },
  {
   "cell_type": "markdown",
   "metadata": {},
   "source": [
    "## Testing profile data"
   ]
  },
  {
   "cell_type": "code",
   "execution_count": 40,
   "metadata": {},
   "outputs": [
    {
     "name": "stdout",
     "output_type": "stream",
     "text": [
      "https://angadchan.herokuapp.com/api/v1/profile.json\n"
     ]
    }
   ],
   "source": [
    "full_url = url + prefix + endpoints[\"profile\"]\n",
    "\n",
    "print(full_url)"
   ]
  },
  {
   "cell_type": "code",
   "execution_count": 41,
   "metadata": {},
   "outputs": [],
   "source": [
    "response = requests.get(full_url)"
   ]
  },
  {
   "cell_type": "code",
   "execution_count": 42,
   "metadata": {},
   "outputs": [
    {
     "data": {
      "text/plain": [
       "200"
      ]
     },
     "execution_count": 42,
     "metadata": {},
     "output_type": "execute_result"
    }
   ],
   "source": [
    "# check if request passed through\n",
    "response.status_code"
   ]
  },
  {
   "cell_type": "code",
   "execution_count": 43,
   "metadata": {},
   "outputs": [],
   "source": [
    "profile_data = response.json()"
   ]
  },
  {
   "cell_type": "markdown",
   "metadata": {},
   "source": [
    "Profile data is list of dicts. We can convert it to pandas dataframe."
   ]
  },
  {
   "cell_type": "code",
   "execution_count": 48,
   "metadata": {},
   "outputs": [],
   "source": [
    "profile_df = pd.DataFrame(profile_data)"
   ]
  },
  {
   "cell_type": "code",
   "execution_count": 49,
   "metadata": {},
   "outputs": [
    {
     "data": {
      "text/plain": [
       "(10, 6)"
      ]
     },
     "execution_count": 49,
     "metadata": {},
     "output_type": "execute_result"
    }
   ],
   "source": [
    "profile_df.shape"
   ]
  },
  {
   "cell_type": "code",
   "execution_count": 50,
   "metadata": {},
   "outputs": [
    {
     "data": {
      "text/html": [
       "<div>\n",
       "<style scoped>\n",
       "    .dataframe tbody tr th:only-of-type {\n",
       "        vertical-align: middle;\n",
       "    }\n",
       "\n",
       "    .dataframe tbody tr th {\n",
       "        vertical-align: top;\n",
       "    }\n",
       "\n",
       "    .dataframe thead th {\n",
       "        text-align: right;\n",
       "    }\n",
       "</style>\n",
       "<table border=\"1\" class=\"dataframe\">\n",
       "  <thead>\n",
       "    <tr style=\"text-align: right;\">\n",
       "      <th></th>\n",
       "      <th>_id</th>\n",
       "      <th>defaultProfile</th>\n",
       "      <th>startDate</th>\n",
       "      <th>store</th>\n",
       "      <th>NSCLIENT_ID</th>\n",
       "      <th>created_at</th>\n",
       "    </tr>\n",
       "  </thead>\n",
       "  <tbody>\n",
       "    <tr>\n",
       "      <th>0</th>\n",
       "      <td>60dcfd8c47874700040f7950</td>\n",
       "      <td>Good Site</td>\n",
       "      <td>2021-06-30T23:26:03.4030000Z</td>\n",
       "      <td>{'Good Site': {'dia': 6.5, 'carbratio': [{'tim...</td>\n",
       "      <td>1625095563404</td>\n",
       "      <td>2021-06-30T23:26:04.274Z</td>\n",
       "    </tr>\n",
       "    <tr>\n",
       "      <th>1</th>\n",
       "      <td>60dcb75eaec84e0004b6b8f8</td>\n",
       "      <td>Good Site</td>\n",
       "      <td>2021-06-30T18:26:37.3790000Z</td>\n",
       "      <td>{'Good Site': {'dia': 6.5, 'carbratio': [{'tim...</td>\n",
       "      <td>1625077597381</td>\n",
       "      <td>2021-06-30T18:26:38.440Z</td>\n",
       "    </tr>\n",
       "    <tr>\n",
       "      <th>2</th>\n",
       "      <td>60dcb750aec84e0004b6b8f6</td>\n",
       "      <td>Good Site</td>\n",
       "      <td>2021-06-30T18:26:23.4050000Z</td>\n",
       "      <td>{'Good Site': {'dia': 6.5, 'carbratio': [{'tim...</td>\n",
       "      <td>1625077583415</td>\n",
       "      <td>2021-06-30T18:26:24.244Z</td>\n",
       "    </tr>\n",
       "    <tr>\n",
       "      <th>3</th>\n",
       "      <td>60dbc507aec84e0004b6b6e4</td>\n",
       "      <td>Good Site</td>\n",
       "      <td>2021-06-30T01:12:39.2710000Z</td>\n",
       "      <td>{'Good Site': {'dia': 6.5, 'carbratio': [{'tim...</td>\n",
       "      <td>1625015559272</td>\n",
       "      <td>2021-06-30T01:12:39.927Z</td>\n",
       "    </tr>\n",
       "    <tr>\n",
       "      <th>4</th>\n",
       "      <td>60db599dc90aec0004eb527b</td>\n",
       "      <td>Good Site</td>\n",
       "      <td>2021-06-29T17:34:21.0290000Z</td>\n",
       "      <td>{'Good Site': {'dia': 6.5, 'carbratio': [{'tim...</td>\n",
       "      <td>1624988061031</td>\n",
       "      <td>2021-06-29T17:34:21.671Z</td>\n",
       "    </tr>\n",
       "  </tbody>\n",
       "</table>\n",
       "</div>"
      ],
      "text/plain": [
       "                        _id defaultProfile                     startDate  \\\n",
       "0  60dcfd8c47874700040f7950      Good Site  2021-06-30T23:26:03.4030000Z   \n",
       "1  60dcb75eaec84e0004b6b8f8      Good Site  2021-06-30T18:26:37.3790000Z   \n",
       "2  60dcb750aec84e0004b6b8f6      Good Site  2021-06-30T18:26:23.4050000Z   \n",
       "3  60dbc507aec84e0004b6b6e4      Good Site  2021-06-30T01:12:39.2710000Z   \n",
       "4  60db599dc90aec0004eb527b      Good Site  2021-06-29T17:34:21.0290000Z   \n",
       "\n",
       "                                               store    NSCLIENT_ID  \\\n",
       "0  {'Good Site': {'dia': 6.5, 'carbratio': [{'tim...  1625095563404   \n",
       "1  {'Good Site': {'dia': 6.5, 'carbratio': [{'tim...  1625077597381   \n",
       "2  {'Good Site': {'dia': 6.5, 'carbratio': [{'tim...  1625077583415   \n",
       "3  {'Good Site': {'dia': 6.5, 'carbratio': [{'tim...  1625015559272   \n",
       "4  {'Good Site': {'dia': 6.5, 'carbratio': [{'tim...  1624988061031   \n",
       "\n",
       "                 created_at  \n",
       "0  2021-06-30T23:26:04.274Z  \n",
       "1  2021-06-30T18:26:38.440Z  \n",
       "2  2021-06-30T18:26:24.244Z  \n",
       "3  2021-06-30T01:12:39.927Z  \n",
       "4  2021-06-29T17:34:21.671Z  "
      ]
     },
     "execution_count": 50,
     "metadata": {},
     "output_type": "execute_result"
    }
   ],
   "source": [
    "profile_df.head()"
   ]
  },
  {
   "cell_type": "markdown",
   "metadata": {},
   "source": [
    "\"store\" column contains more information in json format within it."
   ]
  },
  {
   "cell_type": "code",
   "execution_count": 51,
   "metadata": {},
   "outputs": [],
   "source": [
    "store_data = profile_df[\"store\"].iloc[0]"
   ]
  },
  {
   "cell_type": "code",
   "execution_count": 52,
   "metadata": {},
   "outputs": [
    {
     "data": {
      "text/plain": [
       "{'Good Site': {'dia': 6.5,\n",
       "  'carbratio': [{'time': '00:00', 'timeAsSeconds': 0, 'value': 7.5}],\n",
       "  'sens': [{'time': '00:00', 'timeAsSeconds': 0, 'value': 55}],\n",
       "  'basal': [{'time': '00:00', 'timeAsSeconds': 0, 'value': 0.4},\n",
       "   {'time': '06:00', 'timeAsSeconds': 21600, 'value': 0.4},\n",
       "   {'time': '10:00', 'timeAsSeconds': 36000, 'value': 0.35}],\n",
       "  'target_low': [{'time': '00:00', 'timeAsSeconds': 0, 'value': 100}],\n",
       "  'target_high': [{'time': '00:00', 'timeAsSeconds': 0, 'value': 100}],\n",
       "  'units': 'mg/dl',\n",
       "  'timezone': 'Asia/Kolkata'},\n",
       " 'LocalProfile2': {'dia': 5,\n",
       "  'carbratio': [{'time': '00:00', 'timeAsSeconds': 0, 'value': 0}],\n",
       "  'sens': [{'time': '00:00', 'timeAsSeconds': 0, 'value': 0}],\n",
       "  'basal': [{'time': '00:00', 'timeAsSeconds': 0, 'value': 0}],\n",
       "  'target_low': [{'time': '00:00', 'timeAsSeconds': 0, 'value': 0}],\n",
       "  'target_high': [{'time': '00:00', 'timeAsSeconds': 0, 'value': 0}],\n",
       "  'units': 'mg/dl',\n",
       "  'timezone': 'Asia/Kolkata'},\n",
       " 'LocalProfile1': {'dia': 5,\n",
       "  'carbratio': [{'time': '00:00', 'timeAsSeconds': 0, 'value': 0}],\n",
       "  'sens': [{'time': '00:00', 'timeAsSeconds': 0, 'value': 0}],\n",
       "  'basal': [{'time': '00:00', 'timeAsSeconds': 0, 'value': 0}],\n",
       "  'target_low': [{'time': '00:00', 'timeAsSeconds': 0, 'value': 0}],\n",
       "  'target_high': [{'time': '00:00', 'timeAsSeconds': 0, 'value': 0}],\n",
       "  'units': 'mg/dl',\n",
       "  'timezone': 'Asia/Kolkata'}}"
      ]
     },
     "execution_count": 52,
     "metadata": {},
     "output_type": "execute_result"
    }
   ],
   "source": [
    "store_data"
   ]
  },
  {
   "cell_type": "markdown",
   "metadata": {},
   "source": [
    "### Notes:\n",
    "- We need to identify which columns have usefule information\n",
    "- We need to figure out how to get data for longer intervals (Currently we are getting lastest 10 entires I guess)"
   ]
  },
  {
   "cell_type": "code",
   "execution_count": null,
   "metadata": {},
   "outputs": [],
   "source": []
  }
 ],
 "metadata": {
  "kernelspec": {
   "display_name": "Python 3",
   "language": "python",
   "name": "python3"
  },
  "language_info": {
   "codemirror_mode": {
    "name": "ipython",
    "version": 3
   },
   "file_extension": ".py",
   "mimetype": "text/x-python",
   "name": "python",
   "nbconvert_exporter": "python",
   "pygments_lexer": "ipython3",
   "version": "3.8.5"
  }
 },
 "nbformat": 4,
 "nbformat_minor": 4
}
